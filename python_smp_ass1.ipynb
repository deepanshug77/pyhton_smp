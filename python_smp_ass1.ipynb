{
  "nbformat": 4,
  "nbformat_minor": 0,
  "metadata": {
    "colab": {
      "name": "python_smp_ass1.ipynb",
      "provenance": [],
      "authorship_tag": "ABX9TyM9bw24XKlabk9ixJf04Apr",
      "include_colab_link": true
    },
    "kernelspec": {
      "name": "python3",
      "display_name": "Python 3"
    },
    "language_info": {
      "name": "python"
    }
  },
  "cells": [
    {
      "cell_type": "markdown",
      "metadata": {
        "id": "view-in-github",
        "colab_type": "text"
      },
      "source": [
        "<a href=\"https://colab.research.google.com/github/deepanshug77/python_smp/blob/main/python_smp_ass1.ipynb\" target=\"_parent\"><img src=\"https://colab.research.google.com/assets/colab-badge.svg\" alt=\"Open In Colab\"/></a>"
      ]
    },
    {
      "cell_type": "markdown",
      "metadata": {
        "id": "2YYLaeD_lYlE"
      },
      "source": [
        "question 1 part 1"
      ]
    },
    {
      "cell_type": "code",
      "metadata": {
        "colab": {
          "base_uri": "https://localhost:8080/"
        },
        "id": "OPKrx07fhf3s",
        "outputId": "cb2e7af1-5885-4acb-fa18-83cc249f25a3"
      },
      "source": [
        "a = 7.3 + 5 + 4j\n",
        "print(a)\n",
        "print(type(a))"
      ],
      "execution_count": 1,
      "outputs": [
        {
          "output_type": "stream",
          "text": [
            "(12.3+4j)\n",
            "<class 'complex'>\n"
          ],
          "name": "stdout"
        }
      ]
    },
    {
      "cell_type": "markdown",
      "metadata": {
        "id": "eq0tL8MFleuZ"
      },
      "source": [
        "question 1 part 2 "
      ]
    },
    {
      "cell_type": "markdown",
      "metadata": {
        "id": "4QfHEH-7m5hB"
      },
      "source": [
        "\"4e4\" and \"4E4\" are not the same as first is lower case and the other is in upper case"
      ]
    },
    {
      "cell_type": "code",
      "metadata": {
        "colab": {
          "base_uri": "https://localhost:8080/"
        },
        "id": "iFZvUIv2mD7N",
        "outputId": "83edb488-dbf9-4324-9b77-b001e82758fb"
      },
      "source": [
        "a = \"4e4\"\n",
        "a_lower = a.islower()\n",
        "print(a_lower)"
      ],
      "execution_count": 2,
      "outputs": [
        {
          "output_type": "stream",
          "text": [
            "True\n"
          ],
          "name": "stdout"
        }
      ]
    },
    {
      "cell_type": "code",
      "metadata": {
        "colab": {
          "base_uri": "https://localhost:8080/"
        },
        "id": "C9d_todamY5B",
        "outputId": "71803f22-eac8-4af6-c671-8e817c73f834"
      },
      "source": [
        "b = \"4E4\"\n",
        "b_upper = b.isupper()\n",
        "print(b_upper)"
      ],
      "execution_count": 6,
      "outputs": [
        {
          "output_type": "stream",
          "text": [
            "True\n"
          ],
          "name": "stdout"
        }
      ]
    },
    {
      "cell_type": "markdown",
      "metadata": {
        "id": "685PMZiDnJ1Q"
      },
      "source": [
        "question 1 part 3"
      ]
    },
    {
      "cell_type": "code",
      "metadata": {
        "colab": {
          "base_uri": "https://localhost:8080/"
        },
        "id": "2YvlHvmGmyWu",
        "outputId": "f752b022-3e4b-4fc8-ca2e-4f36f0d21220"
      },
      "source": [
        "x=3\n",
        "y=5\n",
        "c = complex(x,y);\n",
        "r = c.real\n",
        "i = c.imag\n",
        "print(\"The real part of complex number is : \",end=\"\")\n",
        "print(r)\n",
        "print(\"The complex part of complex number is : \",end=\"\")\n",
        "print(i)"
      ],
      "execution_count": 13,
      "outputs": [
        {
          "output_type": "stream",
          "text": [
            "The real part of complex number is : 3.0\n",
            "The complex part of complex number is : 5.0\n"
          ],
          "name": "stdout"
        }
      ]
    },
    {
      "cell_type": "markdown",
      "metadata": {
        "id": "NdFIGu6Ep0SK"
      },
      "source": [
        "question 1 part 4 "
      ]
    },
    {
      "cell_type": "code",
      "metadata": {
        "colab": {
          "base_uri": "https://localhost:8080/"
        },
        "id": "ixkZNQglotkm",
        "outputId": "fa9af462-450d-4739-b855-0e2a93554f1d"
      },
      "source": [
        "import math\n",
        "x= math.e\n",
        "y= math.trunc(x)\n",
        "print(y)"
      ],
      "execution_count": 14,
      "outputs": [
        {
          "output_type": "stream",
          "text": [
            "2\n"
          ],
          "name": "stdout"
        }
      ]
    },
    {
      "cell_type": "markdown",
      "metadata": {
        "id": "PS4r-aCcqRCZ"
      },
      "source": [
        "question 2 "
      ]
    },
    {
      "cell_type": "code",
      "metadata": {
        "colab": {
          "base_uri": "https://localhost:8080/"
        },
        "id": "tjQ-GmlyqPGL",
        "outputId": "55281c36-63f7-4096-9dac-c9325b371615"
      },
      "source": [
        "# passing dictionary as argument\n",
        "  \n",
        "  \n",
        "# A function that takes dictionary\n",
        "# as an argument\n",
        "def func(d):\n",
        "      \n",
        "    for key in d:\n",
        "        print(\"key:\", key, \"Value:\", d[key])\n",
        "          \n",
        "# Driver's code\n",
        "D = {'a':4, 'b':7, 'c':10}\n",
        "func(D)"
      ],
      "execution_count": 69,
      "outputs": [
        {
          "output_type": "stream",
          "text": [
            "key: a Value: 4\n",
            "key: b Value: 7\n",
            "key: c Value: 10\n"
          ],
          "name": "stdout"
        }
      ]
    },
    {
      "cell_type": "markdown",
      "metadata": {
        "id": "CZC9ql9Hqsua"
      },
      "source": [
        "question 3 (factorial of a number)"
      ]
    },
    {
      "cell_type": "code",
      "metadata": {
        "colab": {
          "base_uri": "https://localhost:8080/"
        },
        "id": "FM1JTMzIquY7",
        "outputId": "f1f40c48-86e4-4300-85e4-5ade43277df3"
      },
      "source": [
        "num = int(input(\"Enter a number: \"))  \n",
        "factorial = 1  \n",
        "if num < 0:  \n",
        "   print(\"Sorry, factorial does not exist for negative numbers\")  \n",
        "elif num == 0:  \n",
        "   print(\"The factorial of 0 is 1\")  \n",
        "else:  \n",
        "   for i in range(1,num + 1):  \n",
        "       factorial = factorial*i  \n",
        "   print(\"The factorial of\",num,\"is\",factorial)  "
      ],
      "execution_count": 16,
      "outputs": [
        {
          "output_type": "stream",
          "text": [
            "Enter a number: 5\n",
            "The factorial of 5 is 120\n"
          ],
          "name": "stdout"
        }
      ]
    },
    {
      "cell_type": "markdown",
      "metadata": {
        "id": "_jUAk464rGVa"
      },
      "source": [
        "question 4 (fibonacci series)"
      ]
    },
    {
      "cell_type": "code",
      "metadata": {
        "colab": {
          "base_uri": "https://localhost:8080/"
        },
        "id": "mJw0THbEq75W",
        "outputId": "cf0e412e-60fa-4df2-cc72-e0784dc7f172"
      },
      "source": [
        "n = int(input(\"Enter the nth value: \"))\n",
        "a = 0\n",
        "b = 1\n",
        "sum = 0\n",
        "print(\"Fibonacci Series : \", end = \" \")\n",
        "while(sum <= n):\n",
        "     print(sum, end = \" \")\n",
        "     a = b\n",
        "     b = sum\n",
        "     sum = a + b"
      ],
      "execution_count": 18,
      "outputs": [
        {
          "output_type": "stream",
          "text": [
            "Enter the nth value: 15\n",
            "Fibonacci Series :  0 1 1 2 3 5 8 13 "
          ],
          "name": "stdout"
        }
      ]
    },
    {
      "cell_type": "markdown",
      "metadata": {
        "id": "z2poC95Jr-Fv"
      },
      "source": [
        "question 5"
      ]
    },
    {
      "cell_type": "code",
      "metadata": {
        "colab": {
          "base_uri": "https://localhost:8080/"
        },
        "id": "6g64wxHLrojX",
        "outputId": "a857dd58-6b91-49f3-e3e9-fecf0ebace72"
      },
      "source": [
        "lst = []\n",
        " \n",
        "# number of elemetns as input\n",
        "n = int(input(\"Enter number of elements : \"))\n",
        "  \n",
        "# iterating till the range\n",
        "for i in range(0, n):\n",
        "    ele = int(input())\n",
        "  \n",
        "    lst.append(ele) # adding the element\n",
        "      \n",
        "print(lst)  \n",
        "\n",
        "psum = 0 \n",
        "nsum = 0 \n",
        "\n",
        "for i in range(0, n):\n",
        "  if lst[i]<0 :\n",
        "      nsum += lst[i];\n",
        "  elif lst[i]>0 :\n",
        "      psum += lst[i];\n",
        "\n",
        "print(\"sum of negative numbers\",end = \" \" )\n",
        "print(nsum)\n",
        "print(\"sum of positive numbers\",end = \" \" )\n",
        "print(psum)\n",
        "\n",
        "psum_absolute = abs(psum) \n",
        "nsum_absolute = abs(nsum)\n",
        "if psum_absolute>nsum_absolute :\n",
        "  print(\"POSITIVE\", end = \" \")\n",
        "elif psum_absolute<nsum_absolute :\n",
        "  print(\"NEGATIVE\", end = \" \")\n"
      ],
      "execution_count": 36,
      "outputs": [
        {
          "output_type": "stream",
          "text": [
            "Enter number of elements : 4\n",
            "-48\n",
            "56\n",
            "-5\n",
            "9\n",
            "[-48, 56, -5, 9]\n",
            "sum of negative numbers -53\n",
            "sum of positive numbers 65\n",
            "POSITIVE "
          ],
          "name": "stdout"
        }
      ]
    },
    {
      "cell_type": "markdown",
      "metadata": {
        "id": "snW3sfBPywIG"
      },
      "source": [
        "question 6\n"
      ]
    },
    {
      "cell_type": "code",
      "metadata": {
        "colab": {
          "base_uri": "https://localhost:8080/"
        },
        "id": "ORS5kmaQ51MF",
        "outputId": "f9fc50b9-7a8d-4396-c8dc-71ccbaa00308"
      },
      "source": [
        "a=input('enter string ')\n",
        "b=''\n",
        "c=''\n",
        "e=''\n",
        "for i in range(0,len(a)):\n",
        "  if(a[i]=='a' or a[i]=='e' or a[i]=='i' or a[i]=='o' or a[i]=='u' or a[i]=='A' or a[i]=='E' or a[i]=='I' or a[i]=='O' or a[i]=='U'):\n",
        "    b+=a[i]\n",
        "  else:\n",
        "    c+=a[i]\n",
        "\n",
        "e=b+c\n",
        "print(str(e))"
      ],
      "execution_count": 70,
      "outputs": [
        {
          "output_type": "stream",
          "text": [
            "enter string efhkiulkaa\n",
            "eiuaafhklk\n"
          ],
          "name": "stdout"
        }
      ]
    },
    {
      "cell_type": "markdown",
      "metadata": {
        "id": "Z8LjrPmA51qG"
      },
      "source": [
        "question 7"
      ]
    },
    {
      "cell_type": "code",
      "metadata": {
        "colab": {
          "base_uri": "https://localhost:8080/"
        },
        "id": "gjs96NkvuAdg",
        "outputId": "78cab641-1599-45d9-a7c3-a1dcd9228db4"
      },
      "source": [
        "# function to print the first m multiple\n",
        "# of a number n without using loop.\n",
        "\n",
        "m = int(input(\"enter the value of m \"))\n",
        "n = int(input(\"enter the value of n \"))\n",
        "\n",
        " # inserts all elements from n to \n",
        "# (m * n)+1 incremented by n.\n",
        "multiple = range(n, (m * n)+1, n)\n",
        "      \n",
        "print(list(multiple)) \n",
        "\n",
        "\n",
        "\n",
        "  \n"
      ],
      "execution_count": 66,
      "outputs": [
        {
          "output_type": "stream",
          "text": [
            "enter the value of m 5\n",
            "enter the value of n 6\n",
            "[6, 12, 18, 24, 30]\n"
          ],
          "name": "stdout"
        }
      ]
    }
  ]
}